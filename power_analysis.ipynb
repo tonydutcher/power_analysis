{
 "cells": [
  {
   "cell_type": "code",
   "execution_count": 1,
   "id": "0c1c48d5",
   "metadata": {},
   "outputs": [],
   "source": [
    "# load modules\n",
    "import os\n",
    "import matplotlib.pyplot as plt\n",
    "import pandas as pd\n",
    "import numpy as np\n",
    "import seaborn as sns\n",
    "from statsmodels.stats.power import FTestAnovaPower, TTestIndPower, TTestPower\n",
    "from pingouin import ttest, anova\n",
    "import pingouin as pg\n",
    "data_dir = 'plots_from_papers'"
   ]
  },
  {
   "cell_type": "code",
   "execution_count": null,
   "id": "27ddfd03",
   "metadata": {},
   "outputs": [],
   "source": []
  },
  {
   "cell_type": "markdown",
   "id": "2db69638",
   "metadata": {},
   "source": [
    "# Calculating statistical power for a secondary analysis\n",
    "Because this is a secondary analysis the sample has already been collected. In order to have this pre-registration accepted we have to provide sufficient justification that our dataset will achieve the minimum effect size necessary for our statistical tests to reach 80% power. Ideally, for each statistical test (3.1.1-4, 3.2.1-4, and 3.3.1-8 - 16 tests total) we would provide sufficient justification that the dataset can achieve the minimum effect size necessary based on previous work. Below is a closer breakdown of the hypotheses for each analysis and the studies that either support (SUPPORT) or do not support (NO SUPPORT) the proposed hypotheses. Effect sizes for these studies are either gathered from the paper or by taking data from the paper and estimating the effect sizes from the datapoints in figures.\n",
    "\n",
    "- 3.0 Event boundary response during movie viewing (single sample t-test)\n",
    "    - 3.0 Adults > 0\n",
    "        - SUPPORT: \n",
    "            - BOUNDARY RESPONSE (Reagh et al., 2020) However, the effect sizes are likely stronger in there analysis compared to our dataset i.e., because they had events. \n",
    "            - CONNECTIVITY RESPONSE (Cooper et al., 2021) However, effect sizes are calculated on 'aggregated' ROIs  instead of specific between HPC and slow regions.\n",
    "<br><br>\n",
    "\n",
    "- 3.1 Univariate response to event boundaries (independent samples t-test)\n",
    "    - 3.1.1 Adults > child 1\n",
    "        - SUPPORT: Ofen et al. 2012 - PPC, Golarai et al. 2007, PPA (PHC)\n",
    "        - NO SUPPORT: Ofen et al. 2012 - HPC, Scherf et al. 2007, Ghetti & Bunge 2012, Demaster & Ghetti, 2013\n",
    "            - **These studies don't always show greater effects in adults compared to children - they are often similar in magnitude. However, this potentially supports the idea that childrens' slow and fast systems become adult-like with sufficient repetitions. The question then becomes are two repetitions enough**\n",
    "    - 3.1.2 Fast child 1 > Slow child 1 (anova)\n",
    "        - SUPPORT: \n",
    "        - NO SUPPORT: Ofen et al., 2012 show the opposite pattern (PPC > HPC) in children.\n",
    "    - 3.1.3 Child 2 > Child 1 \n",
    "    - 3.1.4 Adult > Child 2\n",
    "        - SUPPORT: see 3.1.1?\n",
    "        - NO SUPPORT: see 3.1.1?\n",
    "<br><br>\n",
    "\n",
    "- 3.2 Connectivity between hippocampus and slow regions at event boundaries (independent samples t-test)\n",
    "    - Riggins et al. 2016, Blankenship et al. 2017\n",
    "    - 3.1.1 Adults > child 1\n",
    "    - 3.1.2 Fast child 1 > Slow child 1 (anova)\n",
    "    - 3.1.3 Child 2 > Child 1 \n",
    "    - 3.1.4 Adult > Child 2\n",
    "<br><br>\n",
    "\n",
    "- 3.3 Univariate response to event boundaries (independent samples t-test)\n",
    "    - Fandacova et al. 2019, Baldassano et al., 2017\n",
    "    - 3.1.1 Adults > child 1\n",
    "        - SUPPORT: \n",
    "        - NO SUPPORT: \n",
    "    - 3.1.2 Fast child 1 > Slow child 1 (anova)\n",
    "    - 3.1.3 Child 2 > Child 1 \n",
    "    - 3.1.4 Adult > Child 2\n",
    "<br><br>"
   ]
  },
  {
   "cell_type": "code",
   "execution_count": 2,
   "id": "d977c52c",
   "metadata": {},
   "outputs": [
    {
     "name": "stderr",
     "output_type": "stream",
     "text": [
      "/Users/anthonydutcher/anaconda3/envs/TA/lib/python3.9/site-packages/outdated/utils.py:14: OutdatedPackageWarning: The package pingouin is out of date. Your version is 0.3.12, the latest is 0.4.0.\n",
      "Set the environment variable OUTDATED_IGNORE=1 to disable these warnings.\n",
      "  return warn(\n",
      "/Users/anthonydutcher/anaconda3/envs/TA/lib/python3.9/site-packages/outdated/utils.py:14: OutdatedPackageWarning: The package outdated is out of date. Your version is 0.2.0, the latest is 0.2.1.\n",
      "Set the environment variable OUTDATED_IGNORE=1 to disable these warnings.\n",
      "  return warn(\n",
      "/Users/anthonydutcher/anaconda3/envs/TA/lib/python3.9/site-packages/seaborn/_decorators.py:36: FutureWarning: Pass the following variables as keyword args: x, y. From version 0.12, the only valid positional argument will be `data`, and passing other arguments without an explicit keyword will result in an error or misinterpretation.\n",
      "  warnings.warn(\n"
     ]
    },
    {
     "data": {
      "image/png": "[encoded data removed]",
      "text/plain": [
       "<Figure size 432x288 with 1 Axes>"
      ]
     },
     "metadata": {
      "needs_background": "light"
     },
     "output_type": "display_data"
    }
   ],
   "source": [
    "cohens_list = list()\n",
    "cohens = np.linspace(0,5,200)\n",
    "for cohen in cohens:\n",
    "    eta = pg.convert_effsize(cohen, 'cohen', 'eta-square')\n",
    "    cohens_list.append([eta, cohen])\n",
    "conversion = pd.DataFrame(cohens_list, columns = ['eta', 'cohen'])\n",
    "sns.scatterplot(conversion.cohen, conversion.eta)\n",
    "plt.suptitle('Eta to Cohen conversion')\n",
    "None"
   ]
  },
  {
   "cell_type": "code",
   "execution_count": null,
   "id": "e8066dfb",
   "metadata": {},
   "outputs": [],
   "source": []
  },
  {
   "cell_type": "code",
   "execution_count": null,
   "id": "60e1418e",
   "metadata": {},
   "outputs": [],
   "source": []
  },
  {
   "cell_type": "code",
   "execution_count": null,
   "id": "a9f43c43",
   "metadata": {},
   "outputs": [],
   "source": []
  },
  {
   "cell_type": "code",
   "execution_count": null,
   "id": "4ad60700",
   "metadata": {},
   "outputs": [],
   "source": []
  },
  {
   "cell_type": "markdown",
   "id": "feaaa059",
   "metadata": {},
   "source": []
  },
  {
   "cell_type": "markdown",
   "id": "fccd98da",
   "metadata": {},
   "source": []
  },
  {
   "cell_type": "code",
   "execution_count": null,
   "id": "abbefeb3",
   "metadata": {},
   "outputs": [],
   "source": []
  },
  {
   "cell_type": "code",
   "execution_count": null,
   "id": "f27e6977",
   "metadata": {},
   "outputs": [],
   "source": []
  },
  {
   "cell_type": "code",
   "execution_count": null,
   "id": "62a2861c",
   "metadata": {},
   "outputs": [],
   "source": []
  },
  {
   "cell_type": "markdown",
   "id": "e66a0d08",
   "metadata": {},
   "source": []
  },
  {
   "cell_type": "markdown",
   "id": "0a7567e0",
   "metadata": {},
   "source": []
  },
  {
   "cell_type": "markdown",
   "id": "013a0de8",
   "metadata": {},
   "source": []
  },
  {
   "cell_type": "code",
   "execution_count": null,
   "id": "e455cd70",
   "metadata": {},
   "outputs": [],
   "source": []
  },
  {
   "cell_type": "code",
   "execution_count": null,
   "id": "7b9a3589",
   "metadata": {},
   "outputs": [],
   "source": []
  },
  {
   "cell_type": "markdown",
   "id": "45fc6282",
   "metadata": {},
   "source": []
  },
  {
   "cell_type": "code",
   "execution_count": 51,
   "id": "40242f5b",
   "metadata": {},
   "outputs": [],
   "source": []
  },
  {
   "cell_type": "code",
   "execution_count": 102,
   "id": "8d035b7b",
   "metadata": {},
   "outputs": [
    {
     "data": {
      "image/png": "[encoded data removed]",
      "text/plain": [
       "<Figure size 432x288 with 1 Axes>"
      ]
     },
     "metadata": {
      "needs_background": "light"
     },
     "output_type": "display_data"
    }
   ],
   "source": []
  },
  {
   "cell_type": "code",
   "execution_count": 116,
   "id": "7ce7dd2e",
   "metadata": {},
   "outputs": [
    {
     "name": "stdout",
     "output_type": "stream",
     "text": [
      "Sample Size: 0.534\n"
     ]
    },
    {
     "data": {
      "image/png": "[encoded data removed]",
      "text/plain": [
       "<Figure size 576x432 with 1 Axes>"
      ]
     },
     "metadata": {
      "needs_background": "light"
     },
     "output_type": "display_data"
    }
   ],
   "source": []
  },
  {
   "cell_type": "markdown",
   "id": "e3ad52a5",
   "metadata": {},
   "source": []
  },
  {
   "cell_type": "code",
   "execution_count": null,
   "id": "67ebcd4a",
   "metadata": {},
   "outputs": [],
   "source": []
  },
  {
   "cell_type": "code",
   "execution_count": null,
   "id": "f87b928a",
   "metadata": {},
   "outputs": [],
   "source": []
  },
  {
   "cell_type": "code",
   "execution_count": null,
   "id": "34ba3bdf",
   "metadata": {},
   "outputs": [],
   "source": []
  },
  {
   "cell_type": "code",
   "execution_count": null,
   "id": "545b9a2a",
   "metadata": {},
   "outputs": [],
   "source": []
  },
  {
   "cell_type": "code",
   "execution_count": null,
   "id": "3506e7e2",
   "metadata": {},
   "outputs": [],
   "source": []
  },
  {
   "cell_type": "code",
   "execution_count": null,
   "id": "e9825a95",
   "metadata": {},
   "outputs": [],
   "source": []
  },
  {
   "cell_type": "code",
   "execution_count": null,
   "id": "d8f25d3c",
   "metadata": {},
   "outputs": [],
   "source": []
  },
  {
   "cell_type": "markdown",
   "id": "93234d1c",
   "metadata": {},
   "source": [
    "# Null effects for developmental differences."
   ]
  },
  {
   "cell_type": "code",
   "execution_count": null,
   "id": "43389388",
   "metadata": {},
   "outputs": [],
   "source": [
    "n_child = 23\n",
    "n_adult = 18\n",
    "ppc_file = 'demaster_2013_kids-adults/demaster_2013_left-ppc_kid-adult.csv'\n",
    "full_file = os.path.join(data_dir, ppc_file)\n",
    "df = simulate_bar_graph_data(full_file, n_child, n_adult)"
   ]
  },
  {
   "cell_type": "code",
   "execution_count": null,
   "id": "bacbc46b",
   "metadata": {},
   "outputs": [],
   "source": [
    "import matplotlib.pyplot as plt\n",
    "fig = plt.figure()\n",
    "ax = fig.add_subplot(1, 1,1)\n",
    "fig = FTestAnovaPower().plot_power(dep_var='nobs',\n",
    "                                   nobs = np.arange(10, 100),\n",
    "                                   effect_size = np.array([0.4, 0.5, 0.6, 0.7,  0.8]),\n",
    "                                   alpha = 0.05,\n",
    "                                   ax=ax, title='power of anova' + '\\n' + r'$\\alpha = 0.05$')\n",
    "plt.axhline(0.8)\n",
    "None"
   ]
  },
  {
   "cell_type": "code",
   "execution_count": null,
   "id": "cc0f9fe9",
   "metadata": {},
   "outputs": [],
   "source": []
  },
  {
   "cell_type": "code",
   "execution_count": null,
   "id": "cc7ea91c",
   "metadata": {},
   "outputs": [],
   "source": []
  },
  {
   "cell_type": "markdown",
   "id": "9e8006eb",
   "metadata": {},
   "source": []
  },
  {
   "cell_type": "code",
   "execution_count": null,
   "id": "6de41bf1",
   "metadata": {},
   "outputs": [],
   "source": []
  },
  {
   "cell_type": "code",
   "execution_count": null,
   "id": "04f43c43",
   "metadata": {},
   "outputs": [],
   "source": []
  },
  {
   "cell_type": "code",
   "execution_count": null,
   "id": "db6e5643",
   "metadata": {},
   "outputs": [],
   "source": [
    "fig = plt.figure()\n",
    "ax = fig.add_subplot(1, 1,1)\n",
    "fig = TTestIndPower().plot_power(dep_var='nobs',\n",
    "                                 nobs = np.arange(10, 80),\n",
    "                                 effect_size = np.array([0.5, 0.525, 0.55, 0.6, 0.7, 0.8, 0.9]),\n",
    "                                 alpha = 0.05,\n",
    "                                 ax=ax, title='power of T-test' + '\\n' + r'$\\alpha = 0.05$')\n",
    "plt.axhline(0.8)\n",
    "plt.axvline(56, color='k')\n",
    "None"
   ]
  },
  {
   "cell_type": "markdown",
   "id": "2f5640dd",
   "metadata": {},
   "source": []
  },
  {
   "cell_type": "markdown",
   "id": "d794891d",
   "metadata": {},
   "source": []
  },
  {
   "cell_type": "code",
   "execution_count": null,
   "id": "495801d6",
   "metadata": {},
   "outputs": [],
   "source": []
  },
  {
   "cell_type": "code",
   "execution_count": null,
   "id": "d25f5849",
   "metadata": {},
   "outputs": [],
   "source": []
  },
  {
   "cell_type": "code",
   "execution_count": null,
   "id": "061ee90c",
   "metadata": {},
   "outputs": [],
   "source": []
  },
  {
   "cell_type": "markdown",
   "id": "de03c1a0",
   "metadata": {},
   "source": []
  },
  {
   "cell_type": "code",
   "execution_count": null,
   "id": "c2ee89f8",
   "metadata": {},
   "outputs": [],
   "source": []
  },
  {
   "cell_type": "markdown",
   "id": "92bf3513",
   "metadata": {},
   "source": []
  },
  {
   "cell_type": "code",
   "execution_count": null,
   "id": "d08aa581",
   "metadata": {},
   "outputs": [],
   "source": []
  },
  {
   "cell_type": "code",
   "execution_count": null,
   "id": "3fb4e864",
   "metadata": {},
   "outputs": [],
   "source": []
  }
 ],
 "metadata": {
  "kernelspec": {
   "display_name": "Python 3.9",
   "language": "python",
   "name": "py39"
  },
  "language_info": {
   "codemirror_mode": {
    "name": "ipython",
    "version": 3
   },
   "file_extension": ".py",
   "mimetype": "text/x-python",
   "name": "python",
   "nbconvert_exporter": "python",
   "pygments_lexer": "ipython3",
   "version": "3.9.4"
  }
 },
 "nbformat": 4,
 "nbformat_minor": 5
}
