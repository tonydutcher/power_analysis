{
 "cells": [
  {
   "cell_type": "code",
   "execution_count": 1,
   "id": "0c1c48d5",
   "metadata": {},
   "outputs": [],
   "source": [
    "import pandas as pd\n",
    "import numpy as np\n",
    "import seaborn as sns\n",
    "\n",
    "conn_kids_HP_PAR = 'conn_ant-PC_child_riggins_etal_2016.csv'\n",
    "uni_adults_PAR = 'ofen_2012_parietal_mem_resp_adults.csv'\n",
    "uni_kids_PAR = 'ofen_2012_parietal_mem_resp_kids.csv'\n",
    "rsa_kids_phpc = 'rsa_kids_fandakova_etal_2019.csv'"
   ]
  },
  {
   "cell_type": "code",
   "execution_count": 9,
   "id": "9731ab44",
   "metadata": {},
   "outputs": [
    {
     "data": {
      "text/plain": [
       "<AxesSubplot:xlabel='episodic', ylabel='antHPC_PC'>"
      ]
     },
     "execution_count": 9,
     "metadata": {},
     "output_type": "execute_result"
    },
    {
     "data": {
      "image/png": "[encoded data removed]",
      "text/plain": [
       "<Figure size 432x288 with 1 Axes>"
      ]
     },
     "metadata": {
      "needs_background": "light"
     },
     "output_type": "display_data"
    }
   ],
   "source": [
    "df = pd.read_csv(conn_kids_HP_PAR, header=1)\n",
    "df.columns = ['episodic', 'antHPC_PC']\n",
    "df.head()\n",
    "sns.regplot(x='episodic', y='antHPC_PC', data=df)"
   ]
  },
  {
   "cell_type": "code",
   "execution_count": 11,
   "id": "d977c52c",
   "metadata": {},
   "outputs": [
    {
     "name": "stderr",
     "output_type": "stream",
     "text": [
      "/Users/anthonydutcher/anaconda3/envs/TA/lib/python3.9/site-packages/scipy/stats/stats.py:1603: UserWarning: kurtosistest only valid for n>=20 ... continuing anyway, n=19\n",
      "  warnings.warn(\"kurtosistest only valid for n>=20 ... continuing \"\n"
     ]
    },
    {
     "data": {
      "text/html": [
       "<table class=\"simpletable\">\n",
       "<caption>OLS Regression Results</caption>\n",
       "<tr>\n",
       "  <th>Dep. Variable:</th>        <td>antHPC_PC</td>    <th>  R-squared:         </th> <td>   0.153</td>\n",
       "</tr>\n",
       "<tr>\n",
       "  <th>Model:</th>                   <td>OLS</td>       <th>  Adj. R-squared:    </th> <td>   0.103</td>\n",
       "</tr>\n",
       "<tr>\n",
       "  <th>Method:</th>             <td>Least Squares</td>  <th>  F-statistic:       </th> <td>   3.061</td>\n",
       "</tr>\n",
       "<tr>\n",
       "  <th>Date:</th>             <td>Tue, 06 Jul 2021</td> <th>  Prob (F-statistic):</th>  <td>0.0982</td> \n",
       "</tr>\n",
       "<tr>\n",
       "  <th>Time:</th>                 <td>12:46:12</td>     <th>  Log-Likelihood:    </th> <td>  13.468</td>\n",
       "</tr>\n",
       "<tr>\n",
       "  <th>No. Observations:</th>      <td>    19</td>      <th>  AIC:               </th> <td>  -22.94</td>\n",
       "</tr>\n",
       "<tr>\n",
       "  <th>Df Residuals:</th>          <td>    17</td>      <th>  BIC:               </th> <td>  -21.05</td>\n",
       "</tr>\n",
       "<tr>\n",
       "  <th>Df Model:</th>              <td>     1</td>      <th>                     </th>     <td> </td>   \n",
       "</tr>\n",
       "<tr>\n",
       "  <th>Covariance Type:</th>      <td>nonrobust</td>    <th>                     </th>     <td> </td>   \n",
       "</tr>\n",
       "</table>\n",
       "<table class=\"simpletable\">\n",
       "<tr>\n",
       "      <td></td>         <th>coef</th>     <th>std err</th>      <th>t</th>      <th>P>|t|</th>  <th>[0.025</th>    <th>0.975]</th>  \n",
       "</tr>\n",
       "<tr>\n",
       "  <th>Intercept</th> <td>    0.0533</td> <td>    0.107</td> <td>    0.498</td> <td> 0.625</td> <td>   -0.173</td> <td>    0.279</td>\n",
       "</tr>\n",
       "<tr>\n",
       "  <th>episodic</th>  <td>    0.3801</td> <td>    0.217</td> <td>    1.750</td> <td> 0.098</td> <td>   -0.078</td> <td>    0.838</td>\n",
       "</tr>\n",
       "</table>\n",
       "<table class=\"simpletable\">\n",
       "<tr>\n",
       "  <th>Omnibus:</th>       <td> 0.539</td> <th>  Durbin-Watson:     </th> <td>   0.841</td>\n",
       "</tr>\n",
       "<tr>\n",
       "  <th>Prob(Omnibus):</th> <td> 0.764</td> <th>  Jarque-Bera (JB):  </th> <td>   0.411</td>\n",
       "</tr>\n",
       "<tr>\n",
       "  <th>Skew:</th>          <td> 0.323</td> <th>  Prob(JB):          </th> <td>   0.814</td>\n",
       "</tr>\n",
       "<tr>\n",
       "  <th>Kurtosis:</th>      <td> 2.680</td> <th>  Cond. No.          </th> <td>    9.24</td>\n",
       "</tr>\n",
       "</table><br/><br/>Notes:<br/>[1] Standard Errors assume that the covariance matrix of the errors is correctly specified."
      ],
      "text/plain": [
       "<class 'statsmodels.iolib.summary.Summary'>\n",
       "\"\"\"\n",
       "                            OLS Regression Results                            \n",
       "==============================================================================\n",
       "Dep. Variable:              antHPC_PC   R-squared:                       0.153\n",
       "Model:                            OLS   Adj. R-squared:                  0.103\n",
       "Method:                 Least Squares   F-statistic:                     3.061\n",
       "Date:                Tue, 06 Jul 2021   Prob (F-statistic):             0.0982\n",
       "Time:                        12:46:12   Log-Likelihood:                 13.468\n",
       "No. Observations:                  19   AIC:                            -22.94\n",
       "Df Residuals:                      17   BIC:                            -21.05\n",
       "Df Model:                           1                                         \n",
       "Covariance Type:            nonrobust                                         \n",
       "==============================================================================\n",
       "                 coef    std err          t      P>|t|      [0.025      0.975]\n",
       "------------------------------------------------------------------------------\n",
       "Intercept      0.0533      0.107      0.498      0.625      -0.173       0.279\n",
       "episodic       0.3801      0.217      1.750      0.098      -0.078       0.838\n",
       "==============================================================================\n",
       "Omnibus:                        0.539   Durbin-Watson:                   0.841\n",
       "Prob(Omnibus):                  0.764   Jarque-Bera (JB):                0.411\n",
       "Skew:                           0.323   Prob(JB):                        0.814\n",
       "Kurtosis:                       2.680   Cond. No.                         9.24\n",
       "==============================================================================\n",
       "\n",
       "Notes:\n",
       "[1] Standard Errors assume that the covariance matrix of the errors is correctly specified.\n",
       "\"\"\""
      ]
     },
     "execution_count": 11,
     "metadata": {},
     "output_type": "execute_result"
    }
   ],
   "source": [
    "import statsmodels.formula.api as smf\n",
    "results = smf.ols('antHPC_PC ~ episodic', data=df).fit()\n",
    "results.summary()"
   ]
  },
  {
   "cell_type": "code",
   "execution_count": 12,
   "id": "a9f43c43",
   "metadata": {},
   "outputs": [
    {
     "data": {
      "text/html": [
       "<div>\n",
       "<style scoped>\n",
       "    .dataframe tbody tr th:only-of-type {\n",
       "        vertical-align: middle;\n",
       "    }\n",
       "\n",
       "    .dataframe tbody tr th {\n",
       "        vertical-align: top;\n",
       "    }\n",
       "\n",
       "    .dataframe thead th {\n",
       "        text-align: right;\n",
       "    }\n",
       "</style>\n",
       "<table border=\"1\" class=\"dataframe\">\n",
       "  <thead>\n",
       "    <tr style=\"text-align: right;\">\n",
       "      <th></th>\n",
       "      <th>X</th>\n",
       "      <th>Y</th>\n",
       "    </tr>\n",
       "  </thead>\n",
       "  <tbody>\n",
       "    <tr>\n",
       "      <th>0</th>\n",
       "      <td>0.276818</td>\n",
       "      <td>0.350000</td>\n",
       "    </tr>\n",
       "    <tr>\n",
       "      <th>1</th>\n",
       "      <td>0.249545</td>\n",
       "      <td>0.119697</td>\n",
       "    </tr>\n",
       "    <tr>\n",
       "      <th>2</th>\n",
       "      <td>0.249545</td>\n",
       "      <td>0.068182</td>\n",
       "    </tr>\n",
       "    <tr>\n",
       "      <th>3</th>\n",
       "      <td>0.360000</td>\n",
       "      <td>0.209091</td>\n",
       "    </tr>\n",
       "    <tr>\n",
       "      <th>4</th>\n",
       "      <td>0.361364</td>\n",
       "      <td>0.186364</td>\n",
       "    </tr>\n",
       "  </tbody>\n",
       "</table>\n",
       "</div>"
      ],
      "text/plain": [
       "          X         Y\n",
       "0  0.276818  0.350000\n",
       "1  0.249545  0.119697\n",
       "2  0.249545  0.068182\n",
       "3  0.360000  0.209091\n",
       "4  0.361364  0.186364"
      ]
     },
     "execution_count": 12,
     "metadata": {},
     "output_type": "execute_result"
    }
   ],
   "source": [
    "conn_adults_HP_PAR = 'conn_PM_adults_cooper_etal_2021.csv'\n",
    "df = pd.read_csv(conn_kids_HP_PAR, header=1)\n",
    "# df.columns = ['episodic', 'antHPC_PC']\n",
    "df.head()\n",
    "    "
   ]
  },
  {
   "cell_type": "code",
   "execution_count": 111,
   "id": "a92629f4",
   "metadata": {},
   "outputs": [
    {
     "data": {
      "text/html": [
       "<div>\n",
       "<style scoped>\n",
       "    .dataframe tbody tr th:only-of-type {\n",
       "        vertical-align: middle;\n",
       "    }\n",
       "\n",
       "    .dataframe tbody tr th {\n",
       "        vertical-align: top;\n",
       "    }\n",
       "\n",
       "    .dataframe thead th {\n",
       "        text-align: right;\n",
       "    }\n",
       "</style>\n",
       "<table border=\"1\" class=\"dataframe\">\n",
       "  <thead>\n",
       "    <tr style=\"text-align: right;\">\n",
       "      <th></th>\n",
       "      <th>sd</th>\n",
       "      <th>N kid</th>\n",
       "      <th>N adult</th>\n",
       "      <th>F</th>\n",
       "      <th>es</th>\n",
       "    </tr>\n",
       "  </thead>\n",
       "  <tbody>\n",
       "    <tr>\n",
       "      <th>0</th>\n",
       "      <td>0.150000</td>\n",
       "      <td>27.0</td>\n",
       "      <td>18.0</td>\n",
       "      <td>65.387570</td>\n",
       "      <td>0.603276</td>\n",
       "    </tr>\n",
       "    <tr>\n",
       "      <th>1</th>\n",
       "      <td>0.166667</td>\n",
       "      <td>27.0</td>\n",
       "      <td>18.0</td>\n",
       "      <td>51.546426</td>\n",
       "      <td>0.545197</td>\n",
       "    </tr>\n",
       "    <tr>\n",
       "      <th>2</th>\n",
       "      <td>0.183333</td>\n",
       "      <td>27.0</td>\n",
       "      <td>18.0</td>\n",
       "      <td>27.290785</td>\n",
       "      <td>0.388256</td>\n",
       "    </tr>\n",
       "    <tr>\n",
       "      <th>3</th>\n",
       "      <td>0.200000</td>\n",
       "      <td>27.0</td>\n",
       "      <td>18.0</td>\n",
       "      <td>37.855147</td>\n",
       "      <td>0.468185</td>\n",
       "    </tr>\n",
       "    <tr>\n",
       "      <th>4</th>\n",
       "      <td>0.216667</td>\n",
       "      <td>27.0</td>\n",
       "      <td>18.0</td>\n",
       "      <td>39.130071</td>\n",
       "      <td>0.476440</td>\n",
       "    </tr>\n",
       "    <tr>\n",
       "      <th>5</th>\n",
       "      <td>0.233333</td>\n",
       "      <td>27.0</td>\n",
       "      <td>18.0</td>\n",
       "      <td>48.268535</td>\n",
       "      <td>0.528863</td>\n",
       "    </tr>\n",
       "    <tr>\n",
       "      <th>6</th>\n",
       "      <td>0.250000</td>\n",
       "      <td>27.0</td>\n",
       "      <td>18.0</td>\n",
       "      <td>46.922387</td>\n",
       "      <td>0.521810</td>\n",
       "    </tr>\n",
       "    <tr>\n",
       "      <th>7</th>\n",
       "      <td>0.266667</td>\n",
       "      <td>27.0</td>\n",
       "      <td>18.0</td>\n",
       "      <td>15.748854</td>\n",
       "      <td>0.268071</td>\n",
       "    </tr>\n",
       "    <tr>\n",
       "      <th>8</th>\n",
       "      <td>0.283333</td>\n",
       "      <td>27.0</td>\n",
       "      <td>18.0</td>\n",
       "      <td>15.727015</td>\n",
       "      <td>0.267799</td>\n",
       "    </tr>\n",
       "    <tr>\n",
       "      <th>9</th>\n",
       "      <td>0.300000</td>\n",
       "      <td>27.0</td>\n",
       "      <td>18.0</td>\n",
       "      <td>6.640793</td>\n",
       "      <td>0.133777</td>\n",
       "    </tr>\n",
       "  </tbody>\n",
       "</table>\n",
       "</div>"
      ],
      "text/plain": [
       "         sd  N kid  N adult          F        es\n",
       "0  0.150000   27.0     18.0  65.387570  0.603276\n",
       "1  0.166667   27.0     18.0  51.546426  0.545197\n",
       "2  0.183333   27.0     18.0  27.290785  0.388256\n",
       "3  0.200000   27.0     18.0  37.855147  0.468185\n",
       "4  0.216667   27.0     18.0  39.130071  0.476440\n",
       "5  0.233333   27.0     18.0  48.268535  0.528863\n",
       "6  0.250000   27.0     18.0  46.922387  0.521810\n",
       "7  0.266667   27.0     18.0  15.748854  0.268071\n",
       "8  0.283333   27.0     18.0  15.727015  0.267799\n",
       "9  0.300000   27.0     18.0   6.640793  0.133777"
      ]
     },
     "execution_count": 111,
     "metadata": {},
     "output_type": "execute_result"
    }
   ],
   "source": [
    "from pingouin import ttest, anova\n",
    "import pandas as pd\n",
    "import numpy as np\n",
    "uni_adults_PAR = 'ofen_2012_parietal_mem_resp_adults.csv'\n",
    "uni_kids_PAR = 'ofen_2012_parietal_mem_resp_kids.csv'\n",
    "uni_ages_PAR = 'ofen_2012_ages.csv'\n",
    "max_val_kids = pd.read_csv(uni_kids_PAR, header=None).max()[1]\n",
    "max_val_adults = pd.read_csv(uni_adults_PAR, header=None).max()[1]\n",
    "ages = pd.read_csv(uni_ages_PAR, header=None)[1]\n",
    "tests = list()\n",
    "kid_sds = np.linspace(0.15, .3, 10)\n",
    "n_kids = 27\n",
    "n_adults = 18\n",
    "for sd in kid_sds:\n",
    "    par_resp = np.hstack([np.random.normal(max_val_kids, sd, n_kids).reshape([1,n_kids]), np.random.normal(max_val_adults, sd, n_adults).reshape([1,n_adults])])\n",
    "    labels = np.hstack([np.repeat(['kid'], n_kids), np.repeat(['adult'],n_adults)])\n",
    "    df = pd.DataFrame([par_resp[0], labels]).T\n",
    "    df.columns = ['parietal resp', 'group']\n",
    "    df['parietal resp'] = df['parietal resp'].astype('float')\n",
    "    av = anova(data=df, dv='parietal resp', between='group')\n",
    "    tests.append(np.array([sd, n_kids, n_adults, av.F[0], av.np2[0]]))\n",
    "\n",
    "av = pd.DataFrame(tests, columns=['sd', 'N kid','N adult', 'F', 'es'])\n",
    "av"
   ]
  },
  {
   "cell_type": "code",
   "execution_count": 110,
   "id": "7ce7dd2e",
   "metadata": {},
   "outputs": [
    {
     "name": "stdout",
     "output_type": "stream",
     "text": [
      "Required sample size: 89 for effect size: 0.3\n",
      "Required sample size: 64 for effect size: 0.3556\n",
      "Required sample size: 48 for effect size: 0.4111\n",
      "Required sample size: 38 for effect size: 0.4667\n",
      "Required sample size: 30 for effect size: 0.5222\n",
      "Required sample size: 25 for effect size: 0.5778\n",
      "Required sample size: 21 for effect size: 0.6333\n",
      "Required sample size: 18 for effect size: 0.6889\n",
      "Required sample size: 16 for effect size: 0.7444\n",
      "Required sample size: 14 for effect size: 0.8\n"
     ]
    }
   ],
   "source": [
    "effect_sizes = np.linspace(0.3, 0.8, 10)\n",
    "power = 0.8\n",
    "alpha = 0.05\n",
    "power_analysis = FTestAnovaPower()\n",
    "for es in effect_sizes:\n",
    "    sample_size = power_analysis.solve_power(effect_size = es, \n",
    "                                             power = power, \n",
    "                                             alpha = alpha)\n",
    "\n",
    "    print('Required sample size: {} for effect size: {}'.format(int(sample_size), es.round(4)))"
   ]
  },
  {
   "cell_type": "code",
   "execution_count": 116,
   "id": "bacbc46b",
   "metadata": {},
   "outputs": [
    {
     "data": {
      "text/plain": [
       "<matplotlib.lines.Line2D at 0x7fbaa83422b0>"
      ]
     },
     "execution_count": 116,
     "metadata": {},
     "output_type": "execute_result"
    },
    {
     "data": {
      "image/png": "[encoded data removed]",
      "text/plain": [
       "<Figure size 432x288 with 1 Axes>"
      ]
     },
     "metadata": {
      "needs_background": "light"
     },
     "output_type": "display_data"
    }
   ],
   "source": [
    "from statsmodels.stats.power import FTestAnovaPower\n",
    "import matplotlib.pyplot as plt\n",
    "fig = plt.figure()\n",
    "ax = fig.add_subplot(1, 1,1)\n",
    "fig = FTestAnovaPower().plot_power(dep_var='effect_size',\n",
    "                                 nobs = [15, 20, 25],\n",
    "                                 effect_size=np.linspace(0.2, 0.9, 100),\n",
    "                                 alpha = 0.05,\n",
    "                                 ax=ax, title='power of anova' + '\\n' + r'$\\alpha = 0.05$')\n",
    "plt.axhline(0.8)\n",
    "# for xc in xcoords:\n",
    "#     plt.axvline(x=xc)"
   ]
  },
  {
   "cell_type": "code",
   "execution_count": 115,
   "id": "b56e92b9",
   "metadata": {},
   "outputs": [
    {
     "data": {
      "text/plain": [
       "array([ 8.02967359,  8.29673591,  8.83086053,  9.30563798,  9.48367953,\n",
       "        9.54302671,  9.42433234, 10.90801187, 11.88724036, 12.00593472,\n",
       "       12.33234421, 11.23442136, 11.115727  , 10.8189911 ,  9.8694362 ,\n",
       "        9.98813056, 10.37388724,  9.66172107,  8.59347181,  9.00890208,\n",
       "        9.45400593, 10.13649852,  9.00890208,  9.83976261, 10.99703264,\n",
       "        9.92878338, 12.51038576, 12.95548961, 19.00890208, 18.41543027,\n",
       "       20.13649852, 21.85756677, 21.08605341, 21.35311573, 21.76854599,\n",
       "       21.17507418, 21.82789318, 20.4925816 , 20.10682493, 20.13649852,\n",
       "       19.92878338, 20.31454006, 19.27596439, 19.51335312, 18.47477745,\n",
       "       19.12759644])"
      ]
     },
     "execution_count": 115,
     "metadata": {},
     "output_type": "execute_result"
    }
   ],
   "source": [
    "uni_ages_PAR = 'ofen_2012_ages.csv'\n",
    "max_val_kids = pd.read_csv(uni_kids_PAR, header=None).max()[1]\n",
    "max_val_adults = pd.read_csv(uni_adults_PAR, header=None).max()[1]\n",
    "ages = pd.read_csv(uni_ages_PAR, header=None)[1].values.astype('float')\n",
    "ages"
   ]
  },
  {
   "cell_type": "code",
   "execution_count": null,
   "id": "495801d6",
   "metadata": {},
   "outputs": [],
   "source": []
  },
  {
   "cell_type": "code",
   "execution_count": null,
   "id": "2ebc4572",
   "metadata": {},
   "outputs": [],
   "source": []
  },
  {
   "cell_type": "code",
   "execution_count": null,
   "id": "d08aa581",
   "metadata": {},
   "outputs": [],
   "source": []
  }
 ],
 "metadata": {
  "kernelspec": {
   "display_name": "Python 3.9",
   "language": "python",
   "name": "py39"
  },
  "language_info": {
   "codemirror_mode": {
    "name": "ipython",
    "version": 3
   },
   "file_extension": ".py",
   "mimetype": "text/x-python",
   "name": "python",
   "nbconvert_exporter": "python",
   "pygments_lexer": "ipython3",
   "version": "3.9.4"
  }
 },
 "nbformat": 4,
 "nbformat_minor": 5
}
