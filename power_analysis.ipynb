{
 "cells": [
  {
   "cell_type": "code",
   "execution_count": 1,
   "id": "0c1c48d5",
   "metadata": {},
   "outputs": [],
   "source": [
    "# load modules\n",
    "import os\n",
    "import matplotlib.pyplot as plt\n",
    "import pandas as pd\n",
    "import numpy as np\n",
    "import seaborn as sns\n",
    "from statsmodels.stats.power import FTestAnovaPower, TTestIndPower, TTestPower\n",
    "from pingouin import ttest, anova\n",
    "import pingouin as pg\n",
    "data_dir = 'plots_from_papers'"
   ]
  },
  {
   "cell_type": "code",
   "execution_count": null,
   "id": "27ddfd03",
   "metadata": {},
   "outputs": [],
   "source": []
  },
  {
   "cell_type": "markdown",
   "id": "2db69638",
   "metadata": {},
   "source": [
    "# Calculating statistical power for a secondary analysis\n",
    "Because this is a secondary analysis the sample has already been collected. In order to have this pre-registration accepted we have to provide sufficient justification that our dataset will achieve the minimum effect size necessary for our statistical tests to reach 80% power. Ideally, for each statistical test (3.1.1-4, 3.2.1-4, and 3.3.1-8 - 16 tests total) we would provide sufficient justification that the dataset can achieve the minimum effect size necessary based on previous work. Below is a closer breakdown of the hypotheses for each analysis and the studies that either support (SUPPORT) or do not support (NO SUPPORT) the proposed hypotheses. Effect sizes for these studies are either gathered from the paper or by taking data from the paper and estimating the effect sizes from the datapoints in figures.\n",
    "\n",
    "- 3.0 Event boundary response during movie viewing (single sample t-test)\n",
    "    - 3.0 Adults > 0\n",
    "        - SUPPORT: \n",
    "            - BOUNDARY RESPONSE (Reagh et al., 2020) However, the effect sizes are likely stronger in there analysis compared to our dataset i.e., because they had events. \n",
    "            - CONNECTIVITY RESPONSE (Cooper et al., 2021) However, effect sizes are calculated on 'aggregated' ROIs  instead of specific between HPC and slow regions.\n",
    "<br><br>\n",
    "\n",
    "- 3.1 Univariate response to event boundaries (independent samples t-test)\n",
    "    - 3.1.1 Adults > child 1\n",
    "        - SUPPORT: Ofen et al. 2012 - PPC, Golarai et al. 2007, PPA (PHC)\n",
    "        - NO SUPPORT: Ofen et al. 2012 - HPC, Scherf et al. 2007, Ghetti & Bunge 2012, Demaster & Ghetti, 2013\n",
    "            - **These studies don't always show greater effects in adults compared to children - they are often similar in magnitude. However, this potentially supports the idea that childrens' slow and fast systems become adult-like with sufficient repetitions. The question then becomes are two repetitions enough**\n",
    "    - 3.1.2 Fast child 1 > Slow child 1 (anova)\n",
    "        - SUPPORT: \n",
    "        - NO SUPPORT: Ofen et al., 2012 show the opposite pattern (PPC > HPC) in children.\n",
    "    - 3.1.3 Child 2 > Child 1 \n",
    "    - 3.1.4 Adult > Child 2\n",
    "        - SUPPORT: see 3.1.1?\n",
    "        - NO SUPPORT: see 3.1.1?\n",
    "<br><br>\n",
    "\n",
    "- 3.2 Connectivity between hippocampus and slow regions at event boundaries (independent samples t-test)\n",
    "    - Riggins et al. 2016, Blankenship et al. 2017\n",
    "    - 3.1.1 Adults > child 1\n",
    "    - 3.1.2 Fast child 1 > Slow child 1 (anova)\n",
    "    - 3.1.3 Child 2 > Child 1 \n",
    "    - 3.1.4 Adult > Child 2\n",
    "<br><br>\n",
    "\n",
    "- 3.3 Univariate response to event boundaries (independent samples t-test)\n",
    "    - Fandacova et al. 2019, Baldassano et al., 2017\n",
    "    - 3.1.1 Adults > child 1\n",
    "        - SUPPORT: \n",
    "        - NO SUPPORT: \n",
    "    - 3.1.2 Fast child 1 > Slow child 1 (anova)\n",
    "    - 3.1.3 Child 2 > Child 1 \n",
    "    - 3.1.4 Adult > Child 2\n",
    "<br><br>"
   ]
  },
  {
   "cell_type": "code",
   "execution_count": 2,
   "id": "d977c52c",
   "metadata": {},
   "outputs": [
    {
     "name": "stderr",
     "output_type": "stream",
     "text": [
      "/Users/anthonydutcher/anaconda3/envs/TA/lib/python3.9/site-packages/outdated/utils.py:14: OutdatedPackageWarning: The package pingouin is out of date. Your version is 0.3.12, the latest is 0.4.0.\n",
      "Set the environment variable OUTDATED_IGNORE=1 to disable these warnings.\n",
      "  return warn(\n",
      "/Users/anthonydutcher/anaconda3/envs/TA/lib/python3.9/site-packages/outdated/utils.py:14: OutdatedPackageWarning: The package outdated is out of date. Your version is 0.2.0, the latest is 0.2.1.\n",
      "Set the environment variable OUTDATED_IGNORE=1 to disable these warnings.\n",
      "  return warn(\n",
      "/Users/anthonydutcher/anaconda3/envs/TA/lib/python3.9/site-packages/seaborn/_decorators.py:36: FutureWarning: Pass the following variables as keyword args: x, y. From version 0.12, the only valid positional argument will be `data`, and passing other arguments without an explicit keyword will result in an error or misinterpretation.\n",
      "  warnings.warn(\n"
     ]
    },
    {
     "data": {
      "image/png": "[encoded data removed]",
      "text/plain": [
       "<Figure size 432x288 with 1 Axes>"
      ]
     },
     "metadata": {
      "needs_background": "light"
     },
     "output_type": "display_data"
    }
   ],
   "source": [
    "cohens_list = list()\n",
    "cohens = np.linspace(0,5,200)\n",
    "for cohen in cohens:\n",
    "    eta = pg.convert_effsize(cohen, 'cohen', 'eta-square')\n",
    "    cohens_list.append([eta, cohen])\n",
    "conversion = pd.DataFrame(cohens_list, columns = ['eta', 'cohen'])\n",
    "sns.scatterplot(conversion.cohen, conversion.eta)\n",
    "plt.suptitle('Eta to Cohen conversion')\n",
    "None"
   ]
  }
 ],
 "metadata": {
  "kernelspec": {
   "display_name": "Python 3.9",
   "language": "python",
   "name": "py39"
  },
  "language_info": {
   "codemirror_mode": {
    "name": "ipython",
    "version": 3
   },
   "file_extension": ".py",
   "mimetype": "text/x-python",
   "name": "python",
   "nbconvert_exporter": "python",
   "pygments_lexer": "ipython3",
   "version": "3.9.4"
  }
 },
 "nbformat": 4,
 "nbformat_minor": 5
}
