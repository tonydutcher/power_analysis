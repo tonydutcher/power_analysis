{
 "cells": [
  {
   "cell_type": "markdown",
   "id": "04ae5df9",
   "metadata": {},
   "source": [
    "# Calculated power for adult univariate contrasts \n",
    "### Univariate contrast to measure boundary response across regions of interest (ROI)\n",
    "#### Measure: Univariate difference from zero at event boundaries across ROIs-T-test\n",
    "\n",
    "#### Reagh et al., 2020 \n",
    "In this study the authors performed univariate contrasts for boundary response in a movie with a similar number of boundary timepoints i.e., 19 compared to our 12, across a number of similar ROIs that we will be using in our analysis.\n",
    "\n",
    "Below, we took the data points for the young group and randomly sampled subsets of participants of different sizes to measure how many participants were needed to achieve the effect seen in the paper. Next, we compare the effect size seen in this paper with an effect size that is lower than the effect seen in the paper to establish a minimum number of participants needed to see an effect in adults."
   ]
  },
  {
   "cell_type": "code",
   "execution_count": 5,
   "id": "bd5da173",
   "metadata": {},
   "outputs": [
    {
     "name": "stderr",
     "output_type": "stream",
     "text": [
      "/Users/anthonydutcher/anaconda3/envs/TA/lib/python3.9/site-packages/outdated/utils.py:14: OutdatedPackageWarning: The package outdated is out of date. Your version is 0.2.0, the latest is 0.2.1.\n",
      "Set the environment variable OUTDATED_IGNORE=1 to disable these warnings.\n",
      "  return warn(\n",
      "/Users/anthonydutcher/anaconda3/envs/TA/lib/python3.9/site-packages/outdated/utils.py:14: OutdatedPackageWarning: The package pingouin is out of date. Your version is 0.3.12, the latest is 0.4.0.\n",
      "Set the environment variable OUTDATED_IGNORE=1 to disable these warnings.\n",
      "  return warn(\n"
     ]
    }
   ],
   "source": [
    "# load modules\n",
    "import os\n",
    "import matplotlib.pyplot as plt\n",
    "import pandas as pd\n",
    "import numpy as np\n",
    "import seaborn as sns\n",
    "from statsmodels.stats.power import FTestAnovaPower, TTestIndPower, TTestPower\n",
    "from pingouin import ttest, anova\n",
    "import pingouin as pg\n",
    "data_dir = 'plots_from_papers'"
   ]
  },
  {
   "cell_type": "code",
   "execution_count": 6,
   "id": "2c3112f3",
   "metadata": {},
   "outputs": [],
   "source": [
    "nsim = 1000\n",
    "adult_file = 'reagh_2020_adults/reagh_2020_adults_boundary.csv'\n",
    "full_file = os.path.join(data_dir, adult_file)\n",
    "df = pd.read_csv(full_file, sep='\\s+', index_col=False)\n",
    "rois = ['PMC', 'aHPC', 'pHPC', 'mPFC', 'ANG', 'PHC']\n",
    "test_list = list()\n",
    "for frac in [0.05, 0.1, 0.15, 0.2, 0.25, 0.3, 0.35]:\n",
    "    for sim in range(nsim):\n",
    "        sdf = df.sample(frac=frac)\n",
    "        for roi in rois:  \n",
    "            tt = ttest(sdf.loc[:, roi].values, 0)\n",
    "            tt['roi'] = roi\n",
    "            tt['samples'] = len(sdf)\n",
    "            test_list.append(tt)\n",
    "\n",
    "univariate_tt_full = pd.concat(test_list)\n",
    "None"
   ]
  },
  {
   "cell_type": "code",
   "execution_count": 7,
   "id": "f4c6ffe5",
   "metadata": {},
   "outputs": [
    {
     "data": {
      "text/plain": [
       "Text(0.5, 0.98, 'Power and effect size estimates across ROIs for different sample sizes')"
      ]
     },
     "execution_count": 7,
     "metadata": {},
     "output_type": "execute_result"
    },
    {
     "data": {
      "image/png": "[encoded data removed]",
      "text/plain": [
       "<Figure size 1152x432 with 2 Axes>"
      ]
     },
     "metadata": {
      "needs_background": "light"
     },
     "output_type": "display_data"
    }
   ],
   "source": [
    "fig, ax = plt.subplots(1, 2, figsize=(16,6))\n",
    "sns.barplot(ax=ax[0], data=univariate_tt_full, x='samples', y='power', hue='roi')\n",
    "sns.barplot(ax=ax[1], data=univariate_tt_full, x='samples', y='cohen-d', hue='roi')\n",
    "ax[0].axhline(0.8, color='g')\n",
    "fig.suptitle('Power and effect size estimates across ROIs for different sample sizes')\n",
    "None"
   ]
  },
  {
   "cell_type": "markdown",
   "id": "b25447bd",
   "metadata": {},
   "source": [
    "## Summary of univariate power analysis in adults.\n",
    "The effect size found in Reagh et al., 2020 is strong and they only needed around 22 participants to see their actual effect of interest across ROIs. Our sample will have 30 participants, even if our effect size is not as strong i.e., 0.55 instead of around 0.8 we would have enough power to see our desired effect in adults."
   ]
  },
  {
   "cell_type": "markdown",
   "id": "f18fcdf1",
   "metadata": {},
   "source": [
    "# Calculated power for developmental univariate contrasts \n",
    "\n",
    "### Univariate contrast to measure developmental differences in boundary response across ROIs\n",
    "#### Measure: Univariate difference between groups at event boundaries across ROIs - Independent samples T-test\n",
    "\n",
    "#### Golarai et al. 2007\n",
    "- prenumbra area in posterior place area (ppa) - PHC\n",
    "\n",
    "In Golarai et al. 2007, the participant breakdown is:\n",
    "- 10 children, 7-11 years, (average age = ??.??)\n",
    "- 13 adults, (average age = ??.??)\n"
   ]
  },
  {
   "cell_type": "code",
   "execution_count": 8,
   "id": "6b486216",
   "metadata": {},
   "outputs": [],
   "source": [
    "# utility\n",
    "def simulate_bar_graph_data(file, n_child, n_adult, se=False):\n",
    "    \"\"\" \n",
    "    Utility function for pulling information from a bar \n",
    "    graph represented as a datafrane with 4 rows: \n",
    "        row 1 - mean child\n",
    "        row 2 - mean + se (or sd) child\n",
    "        row 3 - mean adult\n",
    "        row 4 - mean + se (or sd) adult\n",
    "    \"\"\"\n",
    "    tmp1 = pd.read_csv(file, header=None)\n",
    "    tmp1.columns = ['dtype', 'value']\n",
    "    \n",
    "    tmp2 = pd.DataFrame({ 'group': ['child', 'adult'], \n",
    "                          'mean_val':[tmp1.value[0], tmp1.value[2]], \n",
    "                          'sd_val':[tmp1.value[1] - tmp1.value[0], tmp1.value[3] - tmp1.value[2]]})\n",
    "    grp = np.hstack([ np.repeat(['child'], n_child), np.repeat(['adult'], n_adult)]).squeeze()\n",
    "    if se is True:\n",
    "        sd1 = tmp2.sd_val[0] * np.sqrt(n_child)\n",
    "        sd2 = tmp2.sd_val[1] * np.sqrt(n_adult)\n",
    "        vals = np.hstack(\n",
    "            [ np.random.normal(tmp2.mean_val[0], sd1, n_child).reshape([1 ,n_child]), \n",
    "              np.random.normal(tmp2.mean_val[1], sd2, n_adult).reshape([1, n_adult])] ).squeeze()\n",
    "    \n",
    "    else:\n",
    "        vals = np.hstack(\n",
    "            [ np.random.normal(tmp2.mean_val[0], tmp2.sd_val[0], n_child).reshape([1 ,n_child]), \n",
    "              np.random.normal(tmp2.mean_val[1], tmp2.sd_val[1], n_adult).reshape([1, n_adult])] ).squeeze()\n",
    "    sim_df = pd.DataFrame([grp, vals], index=['group', 'values']).T\n",
    "    sim_df['values'] = sim_df['values'].astype('float')\n",
    "    return sim_df"
   ]
  },
  {
   "cell_type": "code",
   "execution_count": 9,
   "id": "076930d9",
   "metadata": {},
   "outputs": [],
   "source": [
    "n_child = 10\n",
    "n_adult = 13\n",
    "phc_file = 'golarai_2008/golarai_prenumbra5_ppa_kid-adult.csv'\n",
    "full_file = os.path.join(data_dir, phc_file)\n",
    "n_small_sims = 1000\n",
    "test_list = list()    \n",
    "for sim in range(n_small_sims):    \n",
    "    # calculate effect size\n",
    "    df = simulate_bar_graph_data(full_file, n_child, n_adult, se=False)\n",
    "    av = anova(data=df, dv='values', between='group')\n",
    "    effect_size = av.np2[0]\n",
    "\n",
    "    # other parameters\n",
    "    power = 0.8\n",
    "    alpha = 0.05\n",
    "    power_analysis = FTestAnovaPower()\n",
    "    sample_size = power_analysis.solve_power(effect_size = effect_size, \n",
    "                                             power = power, \n",
    "                                             alpha = alpha)\n",
    "    av['samples'] = sample_size\n",
    "    test_list.append(av)\n",
    "    \n",
    "dev_diff = pd.concat(test_list)"
   ]
  },
  {
   "cell_type": "code",
   "execution_count": 12,
   "id": "8b093652",
   "metadata": {},
   "outputs": [
    {
     "name": "stdout",
     "output_type": "stream",
     "text": [
      "Effect size difference between children and adults = 0.847\n"
     ]
    }
   ],
   "source": [
    "ef = dev_diff['np2'].mean()\n",
    "print(f\"Effect size difference between children and adults = {ef.round(3)}\")"
   ]
  },
  {
   "cell_type": "markdown",
   "id": "4cddd22e",
   "metadata": {},
   "source": [
    "### Summary from developmental univariate contrasts (Golarai et al. 2007).\n",
    "Strong effect size, smaller sample.\n",
    "\n",
    "\n",
    "#### Ofen et al. 2012\n",
    "- Values taken from posterior parietal cortex (ppc)\n",
    "\n",
    "In Ofen et al. 2012, the participant breakdown is:\n",
    "- 27 children, 7-11 years\n",
    "- 32 adults\n",
    "\n",
    "Here, the standard deviation is simulated at different levels because it was not provided and could not be deduced from the data points."
   ]
  },
  {
   "cell_type": "code",
   "execution_count": 13,
   "id": "bb7a5a9c",
   "metadata": {},
   "outputs": [],
   "source": [
    "uni_adults_PAR = os.path.join(data_dir, 'ofen_2012/ofen_2012_parietal_mem_resp_adults.csv')\n",
    "uni_kids_PAR = os.path.join(data_dir, 'ofen_2012/ofen_2012_parietal_mem_resp_kids.csv')\n",
    "uni_ages_PAR = os.path.join(data_dir, 'ofen_2012/ofen_2012_ages.csv')\n",
    "max_val_kids = pd.read_csv(uni_kids_PAR, header=None).max()[1] # the highest average across time series\n",
    "max_val_adults = pd.read_csv(uni_adults_PAR, header=None).max()[1] # the highest average across time series\n",
    "ages = pd.read_csv(uni_ages_PAR, header=None)[1]\n",
    "tests = list()\n",
    "kid_sds = np.linspace(0.3, .1, 6)\n",
    "n_kids = 27\n",
    "n_adults = 32\n",
    "nsim = 1000\n",
    "for sd in kid_sds:\n",
    "    for sim in range(nsim):\n",
    "        par_resp = np.hstack([np.random.normal(max_val_kids, sd, n_kids).reshape([1,n_kids]), np.random.normal(max_val_adults, sd, n_adults).reshape([1,n_adults])])\n",
    "        labels = np.hstack([np.repeat(['kid'], n_kids), np.repeat(['adult'],n_adults)])\n",
    "        df = pd.DataFrame([par_resp[0], labels]).T\n",
    "        df.columns = ['parietal resp', 'group']\n",
    "        df['parietal resp'] = df['parietal resp'].astype('float')\n",
    "        av = anova(data=df, dv='parietal resp', between='group')\n",
    "        tests.append(np.array([sd, n_kids, n_adults, av.F[0], av.np2[0]]))\n",
    "\n",
    "av = pd.DataFrame(tests, columns=['sd', 'N kid', 'N adult', 'F', 'es'])"
   ]
  },
  {
   "cell_type": "code",
   "execution_count": 14,
   "id": "6c4bdd1a",
   "metadata": {},
   "outputs": [
    {
     "name": "stdout",
     "output_type": "stream",
     "text": [
      "Minimum effect size : 0.572\n"
     ]
    },
    {
     "data": {
      "image/png": "[encoded data removed]",
      "text/plain": [
       "<Figure size 1152x360 with 1 Axes>"
      ]
     },
     "metadata": {
      "needs_background": "light"
     },
     "output_type": "display_data"
    }
   ],
   "source": [
    "# getting example sample size for an expected effect size\n",
    "power = 0.8\n",
    "alpha = 0.05\n",
    "result = TTestPower().solve_power(power=power, nobs=26, alpha=alpha)\n",
    "print(f'Minimum effect size : {result:.3f}')\n",
    "\n",
    "fig, ax = plt.subplots(figsize=(16, 5))\n",
    "sns.barplot(data=av, x='sd', y='es')\n",
    "plt.suptitle('Effect size (eta) as a function of standard deviation')\n",
    "ax.axhline(result)\n",
    "None"
   ]
  },
  {
   "cell_type": "markdown",
   "id": "c83e6efc",
   "metadata": {},
   "source": [
    "#### Scherf et al. 2007\n",
    "Naturalistic stimuli of 4 categories of items distributed randomly across 32 15-seconod blocks (8 instances of each category). From the paper: \"The vignettes were organized into 32 randomized 15-second blocks containing stimuli from a single category.\""
   ]
  },
  {
   "cell_type": "code",
   "execution_count": null,
   "id": "2ac7645e",
   "metadata": {},
   "outputs": [],
   "source": []
  },
  {
   "cell_type": "code",
   "execution_count": null,
   "id": "21eea9ef",
   "metadata": {},
   "outputs": [],
   "source": []
  },
  {
   "cell_type": "code",
   "execution_count": null,
   "id": "79170628",
   "metadata": {},
   "outputs": [],
   "source": []
  },
  {
   "cell_type": "code",
   "execution_count": null,
   "id": "7e4bc2ae",
   "metadata": {},
   "outputs": [],
   "source": []
  },
  {
   "cell_type": "markdown",
   "id": "8cb15f3b",
   "metadata": {},
   "source": []
  },
  {
   "cell_type": "markdown",
   "id": "ecf80c3f",
   "metadata": {},
   "source": [
    "## Summary of developmental differences in univariate response.\n",
    "Both studies sampled here found significant results with different sample sizes, with the difference in effect size driving effects, suggesting the underlying signal that is being sampled is important. As no studies to date have measured developmental differences in event boundaries for naturalistic stimuli our adult work suggests we are sufficiently powered to see effects if they exist. The minimum effect size needed in our sample size of 56 would be 0.536. This effect size was exhibited in Golarai et al., 2007 but in Ofen et al. 2012 the authors did not report participant level data and so had to be deduced by simulating different standard deviations. \n"
   ]
  },
  {
   "cell_type": "code",
   "execution_count": null,
   "id": "af3ea83b",
   "metadata": {},
   "outputs": [],
   "source": []
  }
 ],
 "metadata": {
  "kernelspec": {
   "display_name": "Python 3.9",
   "language": "python",
   "name": "py39"
  },
  "language_info": {
   "codemirror_mode": {
    "name": "ipython",
    "version": 3
   },
   "file_extension": ".py",
   "mimetype": "text/x-python",
   "name": "python",
   "nbconvert_exporter": "python",
   "pygments_lexer": "ipython3",
   "version": "3.9.4"
  }
 },
 "nbformat": 4,
 "nbformat_minor": 5
}
