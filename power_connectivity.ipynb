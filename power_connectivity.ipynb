{
 "cells": [
  {
   "cell_type": "markdown",
   "id": "52af556c",
   "metadata": {},
   "source": [
    "# Power calculations for connectivity hypotheses \n",
    "\n",
    "## Detecting an effect in adults\n",
    "#### Simulating sample size using data from Cooper et al., 2021\n",
    "The authors here use the same dataset from Reagh et al., 2020, a movie with 19 event boundaries. Below are aggregate connectivity sub-systems across ROIs. This is slightly different from the proposed analysis but still applicable because it suggests the authors are able to find an effect by aggregating connectivity across multiple ROIs.\n",
    "\n",
    "- Dorsal PM subsystem \n",
    "    - Group 1: mean Z = 0.30, SE = 0.05, t(67) = 6.74, p < .001\n",
    "    - Group 2: mean Z = 0.25, SE = 0.04, t(67) = 5.57, p < .001"
   ]
  },
  {
   "cell_type": "code",
   "execution_count": 64,
   "id": "ff40ac02",
   "metadata": {},
   "outputs": [],
   "source": [
    "# load modules\n",
    "import os\n",
    "import matplotlib.pyplot as plt\n",
    "import pandas as pd\n",
    "import numpy as np\n",
    "import seaborn as sns\n",
    "from pingouin import ttest, anova\n",
    "import pingouin as pg\n",
    "data_dir = 'plots_from_papers'"
   ]
  },
  {
   "cell_type": "code",
   "execution_count": 65,
   "id": "6d5f726b",
   "metadata": {},
   "outputs": [],
   "source": [
    "# values from Cooper et al., 2021\n",
    "n_adult = 68\n",
    "dorsal_mean = 0.275  # averaged across groups\n",
    "dorsal_se = 0.045  # averaged across groups\n",
    "dorsal_sd = dorsal_se * np.sqrt(n_adult)\n",
    "\n",
    "# simulate data points using mean and sd and gather statistical tests and power calculations\n",
    "nsim = 50\n",
    "grp = np.repeat(['adult'], n_adult) # labels\n",
    "\n",
    "# simulate saample with mean and sd\n",
    "vals2 = np.random.normal(dorsal_mean, dorsal_sd, n_adult)\n",
    "df2 = pd.DataFrame([grp, vals2], index=['group', 'values']).T\n",
    "df2['values'] = df2['values'].astype('float') \n",
    "test_list = list()\n",
    "for frac in [0.1, 0.2, 0.25, 0.3, 0.35, 0.4, 0.45]: # different fractions of full sample (N=68)\n",
    "    for sim in range(nsim):\n",
    "        sdf2 = df2.sample(frac=frac)\n",
    "        tt2 = ttest(sdf2.loc[:,'values'].values, 0)\n",
    "        tt2['samples'] = len(sdf2)\n",
    "        test_list.append(tt2)\n",
    "        \n",
    "connectivity_tt_full = pd.concat(test_list)"
   ]
  },
  {
   "cell_type": "code",
   "execution_count": 67,
   "id": "37db6930",
   "metadata": {},
   "outputs": [
    {
     "data": {
      "image/png": "[encoded data removed]",
      "text/plain": [
       "<Figure size 1152x288 with 2 Axes>"
      ]
     },
     "metadata": {
      "needs_background": "light"
     },
     "output_type": "display_data"
    }
   ],
   "source": [
    "fig, ax = plt.subplots(1, 2, figsize=(16,4))\n",
    "sns.barplot(ax=ax[0], data=connectivity_tt_full, x='samples', y='power')\n",
    "sns.barplot(ax=ax[1], data=connectivity_tt_full, x='samples', y='cohen-d')\n",
    "fig.suptitle('Power and effect size estimates across aggregate ROI for different sample sizes')\n",
    "ax[0].axhline(0.8, color='g', linestyle='--')\n",
    "None"
   ]
  },
  {
   "cell_type": "markdown",
   "id": "a448cd4c",
   "metadata": {},
   "source": [
    "## Summary of simulated connectivity power analysis in adults.\n",
    "The effect size found in Cooper et al., 2021 is strong and given the signal in the movie content, their statistical analysis and aggregate ROIs used it seems the authors may have only needed around 20 participants to see their actual effect of interest. With 20 participants the effect size was on average around d=0.8, which is strong. Below we calculate the minimum power needed to be sufficiently powered for this analysis.\n",
    "\n",
    "\n",
    "## Detecting an effect in children \n",
    "\n",
    "### Simulating developmental effects from data in Riggins et al. 2016.\n",
    "Four and six year-olds performed memory related tasks over 120 items while being scanned in an MRI. The authors measured connectivity between HPC and cortical regions as participants performed the task. Here, we report positive relationship between HPC-Precuneus connectivity and memory ability a sample of 19, \n",
    "6 year-olds."
   ]
  },
  {
   "cell_type": "code",
   "execution_count": 8,
   "id": "6ddcb037",
   "metadata": {},
   "outputs": [],
   "source": [
    "conn_kids_HP_PAR = os.path.join(data_dir, 'riggins_2016/conn_ant-PC_child_riggins_etal_2016.csv')\n",
    "df = pd.read_csv(conn_kids_HP_PAR, header=1)\n",
    "df.columns = ['episodic', 'antHPC_PC']\n",
    "df.head()\n",
    "nsim = 10\n",
    "test_list = list()\n",
    "for frac in [0.2, 0.3, 0.4, 0.5, 0.7, 0.8, 0.9]: # different fractions of full sample (N=19)\n",
    "    for sim in range(nsim):\n",
    "        sdf = df.sample(frac=frac).copy()\n",
    "        av = ttest(sdf.loc[:,'antHPC_PC'].values, 0)\n",
    "        av['samples'] = sdf.shape[0]\n",
    "        test_list.append(av)\n",
    "connectivity_tt_full_dev = pd.concat(test_list)"
   ]
  },
  {
   "cell_type": "code",
   "execution_count": 9,
   "id": "3cc99398",
   "metadata": {},
   "outputs": [
    {
     "data": {
      "image/png": "[encoded data removed]",
      "text/plain": [
       "<Figure size 1152x288 with 2 Axes>"
      ]
     },
     "metadata": {
      "needs_background": "light"
     },
     "output_type": "display_data"
    }
   ],
   "source": [
    "fig, ax = plt.subplots(1, 2, figsize=(16,4))\n",
    "sns.barplot(ax=ax[0], data=connectivity_tt_full_dev, x='samples', y='power')\n",
    "sns.barplot(ax=ax[1], data=connectivity_tt_full_dev, x='samples', y='cohen-d')\n",
    "fig.suptitle('Power and effect size estimates')\n",
    "ax[0].axhline(0.8, color='g')\n",
    "None"
   ]
  },
  {
   "cell_type": "markdown",
   "id": "5e5a19b3",
   "metadata": {},
   "source": [
    "#### Blankenship et al., 2017\n",
    "\n",
    "In this article, the authors performed resting-state analysis on a ~5 minute scan in a sample of 97, 4-10 year olds. Using the pengouin statistical package we can estimate the sample effect size based purely on the T-statistic (>0). The T-statisitic is from an age-dependent connectivity analysis between bilateral HPC and the whole brain. The authors found age-related improvements in connectivity between the ages of 4 and 10 years-old within a cluster in the temporal-parietal junction ( T (96) = 12.61) - a region that overlaps highly with our chosen ROIs. This gives us an effect size estimate in the literature. Furterhmore, we followed-up this effect size estimate with a power calculation to determine the effect size we need to see in our dataset (given the number of participants we have) to a significant connectivity effect in children. This will be the basis to determine that we have the power at least to detect effects in children."
   ]
  },
  {
   "cell_type": "code",
   "execution_count": 19,
   "id": "b1d2babd",
   "metadata": {},
   "outputs": [
    {
     "name": "stdout",
     "output_type": "stream",
     "text": [
      "Effect size from Blankenship et al. with a T-statistic of 12.61, is d = 2.561\n"
     ]
    }
   ],
   "source": [
    "#  'bi-HIP -- parietal-temporal':12.61, \n",
    "effsize = pg.compute_effsize_from_t(12.61, N=97)\n",
    "print(f'Effect size from Blankenship et al. with a T-statistic of 12.61, is d = {effsize:0.3f}')"
   ]
  },
  {
   "cell_type": "markdown",
   "id": "681c1cbe",
   "metadata": {},
   "source": [
    "### Summary of connectivity power analysis in children.\n",
    "The effect sizes found across the studies listed above are strong. We chose two studies that mimic our own dataset in different ways. The first set of analyses from Riggins et al. 2016 have a similar sample size to our dataset and a similar age range. The second set of analyses from Blankenship et al., had a similar number of data points collected within subject. Both reported effect sizes well above the minimum effect size we calculated as necessary to be sufficiently power the study and justify the analysis. Therefore, even if our effect size is much weaker than those reported here (minimum = 0.572, provided a sample size of 26) we believe we are justified in performing the proposed analyses."
   ]
  }
 ],
 "metadata": {
  "kernelspec": {
   "display_name": "Python 3.9",
   "language": "python",
   "name": "py39"
  },
  "language_info": {
   "codemirror_mode": {
    "name": "ipython",
    "version": 3
   },
   "file_extension": ".py",
   "mimetype": "text/x-python",
   "name": "python",
   "nbconvert_exporter": "python",
   "pygments_lexer": "ipython3",
   "version": "3.9.4"
  }
 },
 "nbformat": 4,
 "nbformat_minor": 5
}
